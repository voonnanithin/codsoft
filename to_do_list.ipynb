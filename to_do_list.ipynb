{
  "nbformat": 4,
  "nbformat_minor": 0,
  "metadata": {
    "colab": {
      "provenance": [],
      "authorship_tag": "ABX9TyPgiZVGzhENn7IoaLi86fhX",
      "include_colab_link": true
    },
    "kernelspec": {
      "name": "python3",
      "display_name": "Python 3"
    },
    "language_info": {
      "name": "python"
    }
  },
  "cells": [
    {
      "cell_type": "markdown",
      "metadata": {
        "id": "view-in-github",
        "colab_type": "text"
      },
      "source": [
        "<a href=\"https://colab.research.google.com/github/voonnanithin/codsoft/blob/main/to_do_list.ipynb\" target=\"_parent\"><img src=\"https://colab.research.google.com/assets/colab-badge.svg\" alt=\"Open In Colab\"/></a>"
      ]
    },
    {
      "cell_type": "code",
      "execution_count": null,
      "metadata": {
        "colab": {
          "base_uri": "https://localhost:8080/"
        },
        "id": "9j3C0raiV8xh",
        "outputId": "0edf71f0-4eaf-4ed2-c5c7-6b59007cc1be"
      },
      "outputs": [
        {
          "output_type": "stream",
          "name": "stdout",
          "text": [
            "Welcome to ToDo List!\n"
          ]
        }
      ],
      "source": [
        "from pickle import dump, load\n",
        "\n",
        "\n",
        "def add_task(task):\n",
        "    todo_list.append(task)\n",
        "    print(\"Task added!\")\n",
        "\n",
        "\n",
        "def remove_task(task_num):\n",
        "    if 0 <= task_num < len(todo_list):\n",
        "        del todo_list[task_num]\n",
        "        print(\"Task removed!\")\n",
        "    else:\n",
        "        print(\"Invalid task number!\")\n",
        "\n",
        "\n",
        "def display_tasks():\n",
        "    if not todo_list:  # If list is empty\n",
        "        print(\"No tasks to display.\")\n",
        "    else:\n",
        "        for index, task in enumerate(todo_list, start=1):\n",
        "            print(f\"{index}. {task}\")\n",
        "\n",
        "\n",
        "def get_choice():\n",
        "    while True:\n",
        "        try:\n",
        "            choice = int(\n",
        "                input(\n",
        "                    \"Type a number: 1. Adding a task, 2. Removing a task, 3. Displaying tasks, 4. Quit: \"\n",
        "                )\n",
        "            )\n",
        "            if 1 <= choice <= 4:\n",
        "                return choice\n",
        "            else:\n",
        "                print(\"Invalid choice. Try again.\")\n",
        "        except ValueError:\n",
        "            print(\"Please enter a number between 1 and 4.\")\n",
        "\n",
        "\n",
        "if __name__ == \"__main__\":\n",
        "    # Loading the pickle file into python as a list\n",
        "    try:\n",
        "        with open(\"todo.pickle\", \"rb+\") as file_in:\n",
        "            todo_list = load(file_in)\n",
        "    except FileNotFoundError:\n",
        "        todo_list = []\n",
        "\n",
        "    print(\"Welcome to ToDo List!\")\n",
        "\n",
        "    while True:\n",
        "        user_choice = get_choice()\n",
        "\n",
        "        # Adding a task\n",
        "        if user_choice == 1:\n",
        "            new_task = input(\"Type a new task: \")\n",
        "            add_task(new_task)\n",
        "\n",
        "        # Removing a task\n",
        "        elif user_choice == 2:\n",
        "            if not todo_list:  # If list is empty\n",
        "                print(\"No tasks to remove.\")\n",
        "            else:\n",
        "                task_num = int(input(\"Enter the task number to delete: \")) - 1\n",
        "                remove_task(task_num)\n",
        "\n",
        "        # Displaying tasks\n",
        "        elif user_choice == 3:\n",
        "            display_tasks()\n",
        "\n",
        "        # Quit\n",
        "        elif user_choice == 4:\n",
        "            # Dumping the list into a pickle file\n",
        "            with open(\"todo.pickle\", \"wb\") as file_out:\n",
        "                dump(todo_list, file_out)\n",
        "            print(\"Goodbye!\")\n",
        "            break"
      ]
    }
  ]
}