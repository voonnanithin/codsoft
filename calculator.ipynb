{
  "nbformat": 4,
  "nbformat_minor": 0,
  "metadata": {
    "colab": {
      "provenance": [],
      "authorship_tag": "ABX9TyNyVnP1/VaCyOeI+xPYjaQL",
      "include_colab_link": true
    },
    "kernelspec": {
      "name": "python3",
      "display_name": "Python 3"
    },
    "language_info": {
      "name": "python"
    }
  },
  "cells": [
    {
      "cell_type": "markdown",
      "metadata": {
        "id": "view-in-github",
        "colab_type": "text"
      },
      "source": [
        "<a href=\"https://colab.research.google.com/github/voonnanithin/codsoft/blob/main/calculator.ipynb\" target=\"_parent\"><img src=\"https://colab.research.google.com/assets/colab-badge.svg\" alt=\"Open In Colab\"/></a>"
      ]
    },
    {
      "cell_type": "code",
      "execution_count": null,
      "metadata": {
        "colab": {
          "base_uri": "https://localhost:8080/"
        },
        "id": "gBe9v3pXYlHj",
        "outputId": "fecd8f0a-76f9-4c83-83fb-f1e35a2f4244"
      },
      "outputs": [
        {
          "output_type": "stream",
          "name": "stdout",
          "text": [
            "Enter '1' for addition\n",
            "Enter '2' for subtraction\n",
            "Enter '3' for multiplication\n",
            "Enter '4' for division\n",
            "Enter '5' for average\n",
            "Enter '-1' to exit.\n",
            "\n"
          ]
        }
      ],
      "source": [
        "import os\n",
        "import time\n",
        "\n",
        "\n",
        "def addition():\n",
        "    nums = list(map(int, input(\"Enter all numbers seperated by space: \").split()))\n",
        "    return sum(nums)\n",
        "\n",
        "\n",
        "def subtraction():\n",
        "    n1 = float(input(\"Enter first number: \"))\n",
        "    n2 = float(input(\"Enter second number: \"))\n",
        "\n",
        "    return n1 - n2\n",
        "\n",
        "\n",
        "def multiplication():\n",
        "    nums = list(map(int, input(\"Enter all numbers seperated by space: \").split()))\n",
        "    res = 1\n",
        "    for num in nums:\n",
        "        res *= num\n",
        "    return res\n",
        "\n",
        "\n",
        "def division():\n",
        "    n1 = float(input(\"Enter first number: \"))\n",
        "    n2 = float(input(\"Enter second number: \"))\n",
        "\n",
        "    return n1 / n2\n",
        "\n",
        "\n",
        "def average():\n",
        "    nums = list(map(int, input(\"Enter all numbers seperated by space: \").split()))\n",
        "    return sum(nums) / len(nums)\n",
        "\n",
        "\n",
        "c = 0\n",
        "while c != \"-1\":\n",
        "    print(\"Enter '1' for addition\")\n",
        "    print(\"Enter '2' for subtraction\")\n",
        "    print(\"Enter '3' for multiplication\")\n",
        "    print(\"Enter '4' for division\")\n",
        "    print(\"Enter '5' for average\")\n",
        "    print(\"Enter '-1' to exit.\\n\")\n",
        "\n",
        "    c = input(\"Your choice is: \")\n",
        "\n",
        "    if c == \"1\":\n",
        "        res = addition()\n",
        "        os.system(\"cls\")\n",
        "        print(f\"The answer is {res}\")\n",
        "        time.sleep(2)\n",
        "        os.system(\"cls\")\n",
        "\n",
        "    elif c == \"2\":\n",
        "        res = subtraction()\n",
        "        os.system(\"cls\")\n",
        "        print(f\"The answer is {res}\")\n",
        "        time.sleep(2)\n",
        "        os.system(\"cls\")\n",
        "\n",
        "    elif c == \"3\":\n",
        "        res = multiplication()\n",
        "        os.system(\"cls\")\n",
        "        print(f\"The answer is {res}\")\n",
        "        time.sleep(2)\n",
        "        os.system(\"cls\")\n",
        "\n",
        "    elif c == \"4\":\n",
        "        res = division()\n",
        "        os.system(\"cls\")\n",
        "        print(f\"The answer is {res}\")\n",
        "        time.sleep(2)\n",
        "        os.system(\"cls\")\n",
        "\n",
        "    elif c == \"5\":\n",
        "        res = average()\n",
        "        os.system(\"cls\")\n",
        "        print(f\"The answer is {res}\")\n",
        "        time.sleep(2)\n",
        "        os.system(\"cls\")\n",
        "\n",
        "    elif c == \"-1\":\n",
        "        os.system(\"cls\")\n",
        "        print(\"Thank you for using the calculator!\")\n",
        "        time.sleep(2)\n",
        "        break\n",
        "\n",
        "    else:\n",
        "        os.system(\"cls\")\n",
        "        print(\"Sorry, invalid option!\")\n",
        "        time.sleep(2)\n",
        "        os.system(\"cls\")"
      ]
    }
  ]
}